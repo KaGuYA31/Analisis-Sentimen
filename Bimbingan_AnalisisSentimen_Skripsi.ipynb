{
  "nbformat": 4,
  "nbformat_minor": 0,
  "metadata": {
    "colab": {
      "provenance": [],
      "authorship_tag": "ABX9TyMS6TBLtzPSdrDw0b/fuMZv",
      "include_colab_link": true
    },
    "kernelspec": {
      "name": "python3",
      "display_name": "Python 3"
    },
    "language_info": {
      "name": "python"
    }
  },
  "cells": [
    {
      "cell_type": "markdown",
      "metadata": {
        "id": "view-in-github",
        "colab_type": "text"
      },
      "source": [
        "<a href=\"https://colab.research.google.com/github/KaGuYA31/Tugas_Machine-Learning/blob/main/Bimbingan_AnalisisSentimen_Skripsi.ipynb\" target=\"_parent\"><img src=\"https://colab.research.google.com/assets/colab-badge.svg\" alt=\"Open In Colab\"/></a>"
      ]
    },
    {
      "cell_type": "code",
      "execution_count": 1,
      "metadata": {
        "colab": {
          "base_uri": "https://localhost:8080/",
          "height": 73
        },
        "id": "FNjF07H2Z4i-",
        "outputId": "639ce5ed-07b7-4920-8913-421e493eb36f"
      },
      "outputs": [
        {
          "output_type": "display_data",
          "data": {
            "text/plain": [
              "<IPython.core.display.HTML object>"
            ],
            "text/html": [
              "\n",
              "     <input type=\"file\" id=\"files-2c6900c1-7616-4547-ae2f-85b943047a38\" name=\"files[]\" multiple disabled\n",
              "        style=\"border:none\" />\n",
              "     <output id=\"result-2c6900c1-7616-4547-ae2f-85b943047a38\">\n",
              "      Upload widget is only available when the cell has been executed in the\n",
              "      current browser session. Please rerun this cell to enable.\n",
              "      </output>\n",
              "      <script>// Copyright 2017 Google LLC\n",
              "//\n",
              "// Licensed under the Apache License, Version 2.0 (the \"License\");\n",
              "// you may not use this file except in compliance with the License.\n",
              "// You may obtain a copy of the License at\n",
              "//\n",
              "//      http://www.apache.org/licenses/LICENSE-2.0\n",
              "//\n",
              "// Unless required by applicable law or agreed to in writing, software\n",
              "// distributed under the License is distributed on an \"AS IS\" BASIS,\n",
              "// WITHOUT WARRANTIES OR CONDITIONS OF ANY KIND, either express or implied.\n",
              "// See the License for the specific language governing permissions and\n",
              "// limitations under the License.\n",
              "\n",
              "/**\n",
              " * @fileoverview Helpers for google.colab Python module.\n",
              " */\n",
              "(function(scope) {\n",
              "function span(text, styleAttributes = {}) {\n",
              "  const element = document.createElement('span');\n",
              "  element.textContent = text;\n",
              "  for (const key of Object.keys(styleAttributes)) {\n",
              "    element.style[key] = styleAttributes[key];\n",
              "  }\n",
              "  return element;\n",
              "}\n",
              "\n",
              "// Max number of bytes which will be uploaded at a time.\n",
              "const MAX_PAYLOAD_SIZE = 100 * 1024;\n",
              "\n",
              "function _uploadFiles(inputId, outputId) {\n",
              "  const steps = uploadFilesStep(inputId, outputId);\n",
              "  const outputElement = document.getElementById(outputId);\n",
              "  // Cache steps on the outputElement to make it available for the next call\n",
              "  // to uploadFilesContinue from Python.\n",
              "  outputElement.steps = steps;\n",
              "\n",
              "  return _uploadFilesContinue(outputId);\n",
              "}\n",
              "\n",
              "// This is roughly an async generator (not supported in the browser yet),\n",
              "// where there are multiple asynchronous steps and the Python side is going\n",
              "// to poll for completion of each step.\n",
              "// This uses a Promise to block the python side on completion of each step,\n",
              "// then passes the result of the previous step as the input to the next step.\n",
              "function _uploadFilesContinue(outputId) {\n",
              "  const outputElement = document.getElementById(outputId);\n",
              "  const steps = outputElement.steps;\n",
              "\n",
              "  const next = steps.next(outputElement.lastPromiseValue);\n",
              "  return Promise.resolve(next.value.promise).then((value) => {\n",
              "    // Cache the last promise value to make it available to the next\n",
              "    // step of the generator.\n",
              "    outputElement.lastPromiseValue = value;\n",
              "    return next.value.response;\n",
              "  });\n",
              "}\n",
              "\n",
              "/**\n",
              " * Generator function which is called between each async step of the upload\n",
              " * process.\n",
              " * @param {string} inputId Element ID of the input file picker element.\n",
              " * @param {string} outputId Element ID of the output display.\n",
              " * @return {!Iterable<!Object>} Iterable of next steps.\n",
              " */\n",
              "function* uploadFilesStep(inputId, outputId) {\n",
              "  const inputElement = document.getElementById(inputId);\n",
              "  inputElement.disabled = false;\n",
              "\n",
              "  const outputElement = document.getElementById(outputId);\n",
              "  outputElement.innerHTML = '';\n",
              "\n",
              "  const pickedPromise = new Promise((resolve) => {\n",
              "    inputElement.addEventListener('change', (e) => {\n",
              "      resolve(e.target.files);\n",
              "    });\n",
              "  });\n",
              "\n",
              "  const cancel = document.createElement('button');\n",
              "  inputElement.parentElement.appendChild(cancel);\n",
              "  cancel.textContent = 'Cancel upload';\n",
              "  const cancelPromise = new Promise((resolve) => {\n",
              "    cancel.onclick = () => {\n",
              "      resolve(null);\n",
              "    };\n",
              "  });\n",
              "\n",
              "  // Wait for the user to pick the files.\n",
              "  const files = yield {\n",
              "    promise: Promise.race([pickedPromise, cancelPromise]),\n",
              "    response: {\n",
              "      action: 'starting',\n",
              "    }\n",
              "  };\n",
              "\n",
              "  cancel.remove();\n",
              "\n",
              "  // Disable the input element since further picks are not allowed.\n",
              "  inputElement.disabled = true;\n",
              "\n",
              "  if (!files) {\n",
              "    return {\n",
              "      response: {\n",
              "        action: 'complete',\n",
              "      }\n",
              "    };\n",
              "  }\n",
              "\n",
              "  for (const file of files) {\n",
              "    const li = document.createElement('li');\n",
              "    li.append(span(file.name, {fontWeight: 'bold'}));\n",
              "    li.append(span(\n",
              "        `(${file.type || 'n/a'}) - ${file.size} bytes, ` +\n",
              "        `last modified: ${\n",
              "            file.lastModifiedDate ? file.lastModifiedDate.toLocaleDateString() :\n",
              "                                    'n/a'} - `));\n",
              "    const percent = span('0% done');\n",
              "    li.appendChild(percent);\n",
              "\n",
              "    outputElement.appendChild(li);\n",
              "\n",
              "    const fileDataPromise = new Promise((resolve) => {\n",
              "      const reader = new FileReader();\n",
              "      reader.onload = (e) => {\n",
              "        resolve(e.target.result);\n",
              "      };\n",
              "      reader.readAsArrayBuffer(file);\n",
              "    });\n",
              "    // Wait for the data to be ready.\n",
              "    let fileData = yield {\n",
              "      promise: fileDataPromise,\n",
              "      response: {\n",
              "        action: 'continue',\n",
              "      }\n",
              "    };\n",
              "\n",
              "    // Use a chunked sending to avoid message size limits. See b/62115660.\n",
              "    let position = 0;\n",
              "    do {\n",
              "      const length = Math.min(fileData.byteLength - position, MAX_PAYLOAD_SIZE);\n",
              "      const chunk = new Uint8Array(fileData, position, length);\n",
              "      position += length;\n",
              "\n",
              "      const base64 = btoa(String.fromCharCode.apply(null, chunk));\n",
              "      yield {\n",
              "        response: {\n",
              "          action: 'append',\n",
              "          file: file.name,\n",
              "          data: base64,\n",
              "        },\n",
              "      };\n",
              "\n",
              "      let percentDone = fileData.byteLength === 0 ?\n",
              "          100 :\n",
              "          Math.round((position / fileData.byteLength) * 100);\n",
              "      percent.textContent = `${percentDone}% done`;\n",
              "\n",
              "    } while (position < fileData.byteLength);\n",
              "  }\n",
              "\n",
              "  // All done.\n",
              "  yield {\n",
              "    response: {\n",
              "      action: 'complete',\n",
              "    }\n",
              "  };\n",
              "}\n",
              "\n",
              "scope.google = scope.google || {};\n",
              "scope.google.colab = scope.google.colab || {};\n",
              "scope.google.colab._files = {\n",
              "  _uploadFiles,\n",
              "  _uploadFilesContinue,\n",
              "};\n",
              "})(self);\n",
              "</script> "
            ]
          },
          "metadata": {}
        },
        {
          "output_type": "stream",
          "name": "stdout",
          "text": [
            "Saving ulasan Ruang Guru (1).csv to ulasan Ruang Guru (1) (1).csv\n"
          ]
        }
      ],
      "source": [
        "from google.colab import files\n",
        "uploaded = files.upload()"
      ]
    },
    {
      "cell_type": "code",
      "source": [
        "!pip install fasttext"
      ],
      "metadata": {
        "colab": {
          "base_uri": "https://localhost:8080/"
        },
        "id": "8JVINwVcaEj0",
        "outputId": "41be7ffd-8e6a-42f6-b44a-f2a65fbe2dc9"
      },
      "execution_count": 2,
      "outputs": [
        {
          "output_type": "stream",
          "name": "stdout",
          "text": [
            "Looking in indexes: https://pypi.org/simple, https://us-python.pkg.dev/colab-wheels/public/simple/\n",
            "Requirement already satisfied: fasttext in /usr/local/lib/python3.9/dist-packages (0.9.2)\n",
            "Requirement already satisfied: numpy in /usr/local/lib/python3.9/dist-packages (from fasttext) (1.22.4)\n",
            "Requirement already satisfied: setuptools>=0.7.0 in /usr/local/lib/python3.9/dist-packages (from fasttext) (67.6.1)\n",
            "Requirement already satisfied: pybind11>=2.2 in /usr/local/lib/python3.9/dist-packages (from fasttext) (2.10.4)\n"
          ]
        }
      ]
    },
    {
      "cell_type": "code",
      "source": [
        "import pandas as pd\n",
        "import re\n",
        "import fasttext\n",
        "from sklearn.model_selection import train_test_split\n",
        "\n"
      ],
      "metadata": {
        "id": "HUZ6nh8uHSOu"
      },
      "execution_count": 3,
      "outputs": []
    },
    {
      "cell_type": "code",
      "source": [
        "# Load data dari file CSV\n",
        "data = pd.read_csv('ulasan Ruang Guru (1).csv')"
      ],
      "metadata": {
        "id": "GMQ98_7qHSZd"
      },
      "execution_count": 36,
      "outputs": []
    },
    {
      "cell_type": "code",
      "source": [
        "print(data.head)"
      ],
      "metadata": {
        "colab": {
          "base_uri": "https://localhost:8080/"
        },
        "id": "ekYfkKVqSGP4",
        "outputId": "a463c4ef-2d64-4314-aa17-d13b264e59f9"
      },
      "execution_count": 38,
      "outputs": [
        {
          "output_type": "stream",
          "name": "stdout",
          "text": [
            "<bound method NDFrame.head of               userName  score                   at  \\\n",
            "0                Super      2  2022-11-03 21:39:14   \n",
            "1            Bagyo 123      2  2022-11-03 16:21:05   \n",
            "2           Nabil Abin      1  2022-11-03 13:43:03   \n",
            "3           Orang Bumi      3  2022-11-02 21:09:28   \n",
            "4         useless time      5  2022-11-02 21:07:15   \n",
            "...                ...    ...                  ...   \n",
            "49995  Pengguna Google      5  2018-09-12 19:00:31   \n",
            "49996  Pengguna Google      4  2018-09-12 18:41:01   \n",
            "49997  Pengguna Google      5  2018-09-12 18:22:05   \n",
            "49998  Pengguna Google      5  2018-09-12 18:13:27   \n",
            "49999  Pengguna Google      5  2018-09-12 17:38:46   \n",
            "\n",
            "                                                 content  \n",
            "0      Ruang guru ini merupakan aplikasi yang cukup m...  \n",
            "1                           Kenapa lama banget instalnya  \n",
            "2      student advisor yang ngechat saya gbisa jaga s...  \n",
            "3      bagus sih, penjelasannya juga mudah dipahami, ...  \n",
            "4      Saya suka ruang guru karena pada pembahasan bi...  \n",
            "...                                                  ...  \n",
            "49995  Wow hebat aplikasi ruang guru sangat membantu ...  \n",
            "49996  lumayan lah tapi materinya masih rada bingung ...  \n",
            "49997  Terimakasih ruang guru tadi nya saya yg tidak ...  \n",
            "49998  Saya suka denga aplikasi ini ruang guru dan ad...  \n",
            "49999  T'rima Kasih Banget Ruang Guru Atas Bimbingan ...  \n",
            "\n",
            "[50000 rows x 4 columns]>\n"
          ]
        }
      ]
    },
    {
      "cell_type": "code",
      "source": [
        "# Menghapus kolom yang tidak diperlukan\n",
        "data = data.drop(['userName', 'at'], axis=1)\n",
        "\n"
      ],
      "metadata": {
        "id": "q0Zc3UNiHSi5"
      },
      "execution_count": 39,
      "outputs": []
    },
    {
      "cell_type": "code",
      "source": [
        "# Menghapus tanda baca dan mengubah huruf kapital menjadi huruf kecil\n",
        "data['content'] = data['content'].apply(lambda x: re.sub(r'[^\\w\\s]', '', str(x).lower().strip()))\n",
        "\n"
      ],
      "metadata": {
        "id": "DowQDesJHSma"
      },
      "execution_count": 40,
      "outputs": []
    },
    {
      "cell_type": "code",
      "source": [
        "# Menghapus kata-kata yang tidak relevan\n",
        "stopwords = ['kata_penghubung_1', 'kata_penghubung_2', 'kata_umum_1', 'kata_umum_2']\n",
        "data['content'] = data['content'].apply(lambda x: ' '.join([word for word in x.split() if word not in stopwords]))"
      ],
      "metadata": {
        "id": "cn3grZL3Im9v"
      },
      "execution_count": 41,
      "outputs": []
    },
    {
      "cell_type": "code",
      "source": [
        "print(data.head)"
      ],
      "metadata": {
        "colab": {
          "base_uri": "https://localhost:8080/"
        },
        "id": "0jOs7IlrSY5V",
        "outputId": "112da16f-5ff8-449e-8e6f-beb85744479a"
      },
      "execution_count": 42,
      "outputs": [
        {
          "output_type": "stream",
          "name": "stdout",
          "text": [
            "<bound method NDFrame.head of        score                                            content\n",
            "0          2  ruang guru ini merupakan aplikasi yang cukup m...\n",
            "1          2                       kenapa lama banget instalnya\n",
            "2          1  student advisor yang ngechat saya gbisa jaga s...\n",
            "3          3  bagus sih penjelasannya juga mudah dipahami ta...\n",
            "4          5  saya suka ruang guru karena pada pembahasan bi...\n",
            "...      ...                                                ...\n",
            "49995      5  wow hebat aplikasi ruang guru sangat membantu ...\n",
            "49996      4  lumayan lah tapi materinya masih rada bingung ...\n",
            "49997      5  terimakasih ruang guru tadi nya saya yg tidak ...\n",
            "49998      5  saya suka denga aplikasi ini ruang guru dan ad...\n",
            "49999      5  trima kasih banget ruang guru atas bimbingan b...\n",
            "\n",
            "[50000 rows x 2 columns]>\n"
          ]
        }
      ]
    },
    {
      "cell_type": "code",
      "source": [
        "# Mengecek nilai pada kolom score\n",
        "print(data['score'].unique())"
      ],
      "metadata": {
        "colab": {
          "base_uri": "https://localhost:8080/"
        },
        "id": "FoOKQEtIInBD",
        "outputId": "ee68091a-1ff5-4866-f17f-f0230d321c5c"
      },
      "execution_count": 43,
      "outputs": [
        {
          "output_type": "stream",
          "name": "stdout",
          "text": [
            "[2 1 3 5 4]\n"
          ]
        }
      ]
    },
    {
      "cell_type": "code",
      "source": [
        "# Menghapus baris yang memiliki nilai yang tidak valid pada kolom score\n",
        "data = data[data['score'].apply(lambda x: str(x).isdigit())]\n"
      ],
      "metadata": {
        "id": "DuQBNbX9KSdU"
      },
      "execution_count": 44,
      "outputs": []
    },
    {
      "cell_type": "code",
      "source": [
        "# Mengubah tipe data kolom score menjadi integer\n",
        "data['score'] = data['score'].astype(int)"
      ],
      "metadata": {
        "id": "uObKvvmCInEJ"
      },
      "execution_count": 45,
      "outputs": []
    },
    {
      "cell_type": "code",
      "source": [
        "# Menampilkan total data\n",
        "print('Total Data:', len(data))"
      ],
      "metadata": {
        "colab": {
          "base_uri": "https://localhost:8080/"
        },
        "id": "Bas9cTaIQB-Q",
        "outputId": "818191a8-b890-4f71-fe1e-c9bcdc1acc3f"
      },
      "execution_count": 46,
      "outputs": [
        {
          "output_type": "stream",
          "name": "stdout",
          "text": [
            "Total Data: 50000\n"
          ]
        }
      ]
    },
    {
      "cell_type": "code",
      "source": [
        "# Membagi data menjadi data latih dan data uji dengan rasio 80:20\n",
        "X_train, X_test, y_train, y_test = train_test_split(data['content'], data['score'], test_size=0.2, random_state=42)"
      ],
      "metadata": {
        "id": "3bM6-kzNK7pw"
      },
      "execution_count": 47,
      "outputs": []
    },
    {
      "cell_type": "code",
      "source": [
        "# Menampilkan jumlah data latih dan data uji\n",
        "print('Jumlah Data Latih:', len(X_train))\n",
        "print('Jumlah Data Uji:', len(X_test))"
      ],
      "metadata": {
        "colab": {
          "base_uri": "https://localhost:8080/"
        },
        "id": "EpVEhgCIQLfs",
        "outputId": "ac1b2ca1-50f4-465e-fbe6-5fe64b518d26"
      },
      "execution_count": 48,
      "outputs": [
        {
          "output_type": "stream",
          "name": "stdout",
          "text": [
            "Jumlah Data Latih: 40000\n",
            "Jumlah Data Uji: 10000\n"
          ]
        }
      ]
    },
    {
      "cell_type": "code",
      "source": [
        "# Membuat file teks yang berisi data latih\n",
        "with open('train.txt', 'w') as f:\n",
        "    for i in range(len(X_train)):\n",
        "        f.write('__label__' + str(y_train.iloc[i]) + ' ' + X_train.iloc[i] + '\\n')"
      ],
      "metadata": {
        "id": "V6rQl1h0K70C"
      },
      "execution_count": 49,
      "outputs": []
    },
    {
      "cell_type": "code",
      "source": [
        "# Melatih model FastText dengan file teks data latih\n",
        "model = fasttext.train_supervised('train.txt')"
      ],
      "metadata": {
        "id": "EZCnOdDNK8Ay"
      },
      "execution_count": 50,
      "outputs": []
    },
    {
      "cell_type": "code",
      "source": [
        "# Membuat file teks yang berisi data uji\n",
        "with open('test.txt', 'w') as f:\n",
        "    for i in range(len(X_test)):\n",
        "        f.write(X_test.iloc[i] + '\\n')"
      ],
      "metadata": {
        "id": "VDzwxDAoLnyF"
      },
      "execution_count": 51,
      "outputs": []
    },
    {
      "cell_type": "code",
      "source": [
        "# Menguji model dengan data uji\n",
        "y_pred = []\n",
        "with open('test.txt', 'r') as f:\n",
        "    for line in f:\n",
        "        y_pred.append(int(model.predict(line.strip())[0][0].replace('__label__', '')))"
      ],
      "metadata": {
        "id": "AaJsBJTJLCuO"
      },
      "execution_count": 52,
      "outputs": []
    },
    {
      "cell_type": "code",
      "source": [
        "from sklearn.metrics import accuracy_score, precision_score, recall_score, f1_score"
      ],
      "metadata": {
        "id": "E62V_j9QLuqU"
      },
      "execution_count": 53,
      "outputs": []
    },
    {
      "cell_type": "code",
      "source": [
        "# Menghitung akurasi, presisi, recall, dan f1 score\n",
        "accuracy = accuracy_score(y_test, y_pred)\n",
        "precision = precision_score(y_test, y_pred, average='macro')\n",
        "recall = recall_score(y_test, y_pred, average='macro')\n",
        "f1 = f1_score(y_test, y_pred, average='macro')"
      ],
      "metadata": {
        "id": "SbXhJidMNAWh"
      },
      "execution_count": 54,
      "outputs": []
    },
    {
      "cell_type": "code",
      "source": [
        "# Menampilkan hasil evaluasi model\n",
        "print('Akurasi:', accuracy)\n",
        "print('Presisi:', precision)\n",
        "print('Recall:', recall)\n",
        "print('F1 Score:', f1)"
      ],
      "metadata": {
        "colab": {
          "base_uri": "https://localhost:8080/"
        },
        "id": "1bTyNSf8NAgV",
        "outputId": "efc9b292-db66-4516-dcde-2a61d851f63c"
      },
      "execution_count": 55,
      "outputs": [
        {
          "output_type": "stream",
          "name": "stdout",
          "text": [
            "Akurasi: 0.8355\n",
            "Presisi: 0.4116115038647684\n",
            "Recall: 0.3471314529074137\n",
            "F1 Score: 0.34524744126201184\n"
          ]
        }
      ]
    },
    {
      "cell_type": "code",
      "source": [
        "# Melabeli sentimen pada data berdasarkan score dan content\n",
        "sentiment = []\n",
        "for index, row in data.iterrows():\n",
        "    if row['score'] >= 4:\n",
        "        sentiment.append('positive')\n",
        "    elif row['score'] <= 2:\n",
        "        sentiment.append('negative')\n",
        "    else:\n",
        "        pred = model.predict(row['content'])\n",
        "        if pred[0][0].replace('__label__', '') == '1':\n",
        "            sentiment.append('negative')\n",
        "        else:\n",
        "            sentiment.append('neutral')\n",
        "\n"
      ],
      "metadata": {
        "id": "Y__awokuInIr"
      },
      "execution_count": 56,
      "outputs": []
    },
    {
      "cell_type": "code",
      "source": [
        "# Menambahkan kolom sentimen pada data\n",
        "data['sentiment'] = sentiment\n",
        "\n"
      ],
      "metadata": {
        "id": "qC_QkMHEInMr"
      },
      "execution_count": 57,
      "outputs": []
    },
    {
      "cell_type": "code",
      "source": [
        "# Menampilkan 10 baris pertama dari data yang telah dilabeli\n",
        "print(data.head)"
      ],
      "metadata": {
        "colab": {
          "base_uri": "https://localhost:8080/"
        },
        "id": "btRsGyxoInnW",
        "outputId": "aa807ef4-a73c-470a-aa42-f0bb2f917a5d"
      },
      "execution_count": 59,
      "outputs": [
        {
          "output_type": "stream",
          "name": "stdout",
          "text": [
            "<bound method NDFrame.head of        score                                            content sentiment\n",
            "0          2  ruang guru ini merupakan aplikasi yang cukup m...  negative\n",
            "1          2                       kenapa lama banget instalnya  negative\n",
            "2          1  student advisor yang ngechat saya gbisa jaga s...  negative\n",
            "3          3  bagus sih penjelasannya juga mudah dipahami ta...   neutral\n",
            "4          5  saya suka ruang guru karena pada pembahasan bi...  positive\n",
            "...      ...                                                ...       ...\n",
            "49995      5  wow hebat aplikasi ruang guru sangat membantu ...  positive\n",
            "49996      4  lumayan lah tapi materinya masih rada bingung ...  positive\n",
            "49997      5  terimakasih ruang guru tadi nya saya yg tidak ...  positive\n",
            "49998      5  saya suka denga aplikasi ini ruang guru dan ad...  positive\n",
            "49999      5  trima kasih banget ruang guru atas bimbingan b...  positive\n",
            "\n",
            "[50000 rows x 3 columns]>\n"
          ]
        }
      ]
    },
    {
      "cell_type": "code",
      "source": [
        "import matplotlib.pyplot as plt\n",
        "import seaborn as sns"
      ],
      "metadata": {
        "id": "1fUddrEsInse"
      },
      "execution_count": 60,
      "outputs": []
    },
    {
      "cell_type": "code",
      "source": [
        "# Menampilkan grafik distribusi sentimen pada data\n",
        "sns.set_style('whitegrid')\n",
        "sns.countplot(x='sentiment', data=data)\n",
        "plt.title('Distribusi Sentimen pada Data')\n",
        "plt.xlabel('Sentimen')\n",
        "plt.ylabel('Jumlah')\n",
        "plt.show()"
      ],
      "metadata": {
        "colab": {
          "base_uri": "https://localhost:8080/",
          "height": 472
        },
        "id": "YmbR0EHCInzI",
        "outputId": "3df7bcb6-4455-4607-de18-b17b941bae4b"
      },
      "execution_count": 61,
      "outputs": [
        {
          "output_type": "display_data",
          "data": {
            "text/plain": [
              "<Figure size 640x480 with 1 Axes>"
            ],
            "image/png": "[encoded data removed]"
          },
          "metadata": {}
        }
      ]
    },
    {
      "cell_type": "code",
      "source": [
        "# Menampilkan tabel sentimen pada data\n",
        "print(data[['content', 'score', 'sentiment']].head)"
      ],
      "metadata": {
        "colab": {
          "base_uri": "https://localhost:8080/"
        },
        "id": "dhX_x1lTIn3T",
        "outputId": "dbd79304-eb4e-458a-ad00-2579ee367909"
      },
      "execution_count": 63,
      "outputs": [
        {
          "output_type": "stream",
          "name": "stdout",
          "text": [
            "<bound method NDFrame.head of                                                  content  score sentiment\n",
            "0      ruang guru ini merupakan aplikasi yang cukup m...      2  negative\n",
            "1                           kenapa lama banget instalnya      2  negative\n",
            "2      student advisor yang ngechat saya gbisa jaga s...      1  negative\n",
            "3      bagus sih penjelasannya juga mudah dipahami ta...      3   neutral\n",
            "4      saya suka ruang guru karena pada pembahasan bi...      5  positive\n",
            "...                                                  ...    ...       ...\n",
            "49995  wow hebat aplikasi ruang guru sangat membantu ...      5  positive\n",
            "49996  lumayan lah tapi materinya masih rada bingung ...      4  positive\n",
            "49997  terimakasih ruang guru tadi nya saya yg tidak ...      5  positive\n",
            "49998  saya suka denga aplikasi ini ruang guru dan ad...      5  positive\n",
            "49999  trima kasih banget ruang guru atas bimbingan b...      5  positive\n",
            "\n",
            "[50000 rows x 3 columns]>\n"
          ]
        }
      ]
    }
  ]
}